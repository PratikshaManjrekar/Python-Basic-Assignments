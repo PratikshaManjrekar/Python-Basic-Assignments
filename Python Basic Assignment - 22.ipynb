{
 "cells": [
  {
   "cell_type": "code",
   "execution_count": null,
   "id": "826eb6f0",
   "metadata": {},
   "outputs": [],
   "source": [
    "'''1. What is the result of the code, and explain?\n",
    ">>> X = 'iNeuron'\n",
    ">>> def func():\n",
    "print(X)\n",
    ">>> func()'''"
   ]
  },
  {
   "cell_type": "code",
   "execution_count": 1,
   "id": "fe514ff4",
   "metadata": {},
   "outputs": [
    {
     "name": "stdout",
     "output_type": "stream",
     "text": [
      "iNeuron\n"
     ]
    }
   ],
   "source": [
    "X='iNeuron'\n",
    "def func():\n",
    "    print(X)\n",
    "func()\n",
    "\n",
    "\n",
    "'''\n",
    "X is the global variable which is assigned to a value 'iNeuron'. \n",
    "Since X is a global variable, it can be accessed inside the function.\n",
    "'''"
   ]
  },
  {
   "cell_type": "code",
   "execution_count": null,
   "id": "8aa16b90",
   "metadata": {},
   "outputs": [],
   "source": [
    "'''2. What is the result of the code, and explain?\n",
    ">>> X = 'iNeuron'\n",
    ">>> def func():\n",
    "X = 'NI!'\n",
    ">>> func()\n",
    ">>> print(X)'''"
   ]
  },
  {
   "cell_type": "code",
   "execution_count": 2,
   "id": "3bce2b23",
   "metadata": {},
   "outputs": [
    {
     "name": "stdout",
     "output_type": "stream",
     "text": [
      "iNeuron\n"
     ]
    }
   ],
   "source": [
    "X = 'iNeuron'\n",
    "def func():\n",
    "    X = 'NI!'\n",
    "func()\n",
    "print(X)\n",
    "\n",
    "\n",
    "'''\n",
    "We cannot access function variables outside the function. \n",
    "So it prints the value 'iNeuron' which is assigned to the global variable X.\n",
    "'''"
   ]
  },
  {
   "cell_type": "code",
   "execution_count": null,
   "id": "6074dd2d",
   "metadata": {},
   "outputs": [],
   "source": [
    "'''3. What does this code print, and why?\n",
    ">>> X = 'iNeuron'\n",
    ">>> def func():\n",
    "X = 'NI'\n",
    "print(X)\n",
    ">>> func()\n",
    ">>> print(X)'''"
   ]
  },
  {
   "cell_type": "code",
   "execution_count": 3,
   "id": "9e9b9378",
   "metadata": {},
   "outputs": [
    {
     "name": "stdout",
     "output_type": "stream",
     "text": [
      "NI\n",
      "iNeuron\n"
     ]
    }
   ],
   "source": [
    "X='iNeuron'\n",
    "def func():\n",
    "    X='NI'\n",
    "    print(X)\n",
    "func()\n",
    "print(X)\n",
    "\n",
    "\n",
    "'''\n",
    "X='iNeuron' is a global variable and X='NI' is a local variable of function func.\n",
    "We are updating the same variable's(X) value inside the function, so it'll update the value of X as 'NI' and will return 'NI'.\n",
    "After that we are printing value of X which is 'iNeuron'. (Since it is global variable.)\n",
    "'''"
   ]
  },
  {
   "cell_type": "code",
   "execution_count": null,
   "id": "b1d03981",
   "metadata": {},
   "outputs": [],
   "source": [
    "'''4. What output does this code produce? Why?\n",
    ">>> X = 'iNeuron'\n",
    ">>> def func():\n",
    "global X\n",
    "X = 'NI'\n",
    ">>> func()\n",
    ">>> print(X)'''"
   ]
  },
  {
   "cell_type": "code",
   "execution_count": 4,
   "id": "0729c7f6",
   "metadata": {},
   "outputs": [
    {
     "name": "stdout",
     "output_type": "stream",
     "text": [
      "NI\n"
     ]
    }
   ],
   "source": [
    "X='iNeuron'\n",
    "def func():\n",
    "    global X\n",
    "    X='NI'\n",
    "func()\n",
    "print(X)\n",
    "\n",
    "'''\n",
    "We have used 'global' keyword.\n",
    "It is used to create a global variable and make changes to the variable in a local context.\n",
    "So it'll update the value of X globally and will update it to 'NI'.\n",
    "'''"
   ]
  },
  {
   "cell_type": "code",
   "execution_count": null,
   "id": "81e91641",
   "metadata": {},
   "outputs": [],
   "source": [
    "'''5. What about this code—what’s the output, and why?\n",
    ">>> X = 'iNeuron'\n",
    ">>> def func():\n",
    "X = 'NI'\n",
    "def nested():\n",
    "print(X)\n",
    "nested()\n",
    ">>> func()\n",
    ">>> X'''"
   ]
  },
  {
   "cell_type": "code",
   "execution_count": 8,
   "id": "3d0f8d93",
   "metadata": {},
   "outputs": [
    {
     "name": "stdout",
     "output_type": "stream",
     "text": [
      "NI\n",
      "iNeuron\n"
     ]
    }
   ],
   "source": [
    "X='iNeuron'\n",
    "def func():\n",
    "    X='NI'\n",
    "    def nested():\n",
    "        print(X)\n",
    "    nested()\n",
    "func()\n",
    "print(X)\n",
    "\n",
    "\n",
    "'''\n",
    "x='NI' is the local variable of function func(), which also has a nested function inside itself.\n",
    "So 'NI' can be accessed inside the nested function, thus it returns a value 'NI'.\n",
    "And printing X outside the function will return the global value of X i.e. 'iNeuron'\n",
    "'''"
   ]
  },
  {
   "cell_type": "code",
   "execution_count": null,
   "id": "ebd6ba3d",
   "metadata": {},
   "outputs": [],
   "source": [
    "'''6. How about this code: what is its output in Python 3, and explain?\n",
    ">>> def func():\n",
    "X = 'NI'\n",
    "def nested():\n",
    "nonlocal X\n",
    "X = 'Spam'\n",
    "nested()\n",
    "print(X)\n",
    ">>> func()'''"
   ]
  },
  {
   "cell_type": "code",
   "execution_count": 11,
   "id": "038b63fd",
   "metadata": {},
   "outputs": [
    {
     "name": "stdout",
     "output_type": "stream",
     "text": [
      "Spam\n"
     ]
    }
   ],
   "source": [
    "def func():\n",
    "    X = 'NI'\n",
    "    def nested():\n",
    "        nonlocal X\n",
    "        X = 'Spam'\n",
    "    nested()\n",
    "    print(X)\n",
    "func()\n",
    "\n",
    "'''\n",
    "We use 'nonlocal' keyword to declare that the variable is not local. \n",
    "This means that the variable can be neither in the local nor the global scope. \n",
    "So it prints the updated value from nested function.\n",
    "'''"
   ]
  },
  {
   "cell_type": "code",
   "execution_count": null,
   "id": "7fb2a0e2",
   "metadata": {},
   "outputs": [],
   "source": []
  }
 ],
 "metadata": {
  "kernelspec": {
   "display_name": "Python 3 (ipykernel)",
   "language": "python",
   "name": "python3"
  },
  "language_info": {
   "codemirror_mode": {
    "name": "ipython",
    "version": 3
   },
   "file_extension": ".py",
   "mimetype": "text/x-python",
   "name": "python",
   "nbconvert_exporter": "python",
   "pygments_lexer": "ipython3",
   "version": "3.9.12"
  }
 },
 "nbformat": 4,
 "nbformat_minor": 5
}
