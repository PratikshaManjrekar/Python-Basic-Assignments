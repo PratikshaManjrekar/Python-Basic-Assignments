{
 "cells": [
  {
   "cell_type": "markdown",
   "id": "22381091",
   "metadata": {},
   "source": [
    "1. Add the current date to the text file today.txt as a string."
   ]
  },
  {
   "cell_type": "code",
   "execution_count": 1,
   "id": "769df746",
   "metadata": {},
   "outputs": [
    {
     "data": {
      "text/plain": [
       "'2022-09-25'"
      ]
     },
     "execution_count": 1,
     "metadata": {},
     "output_type": "execute_result"
    }
   ],
   "source": [
    "import datetime\n",
    "from datetime import date\n",
    "todays_date=date.today()\n",
    "current_date=todays_date.isoformat()\n",
    "current_date"
   ]
  },
  {
   "cell_type": "code",
   "execution_count": 2,
   "id": "b556d939",
   "metadata": {},
   "outputs": [],
   "source": [
    "with open('today.txt','w') as f:\n",
    "    f.write(current_date)"
   ]
  },
  {
   "cell_type": "markdown",
   "id": "ca904890",
   "metadata": {},
   "source": [
    "2. Read the text file today.txt into the string today_string"
   ]
  },
  {
   "cell_type": "code",
   "execution_count": 3,
   "id": "016334c0",
   "metadata": {},
   "outputs": [
    {
     "data": {
      "text/plain": [
       "'2022-09-25'"
      ]
     },
     "execution_count": 3,
     "metadata": {},
     "output_type": "execute_result"
    }
   ],
   "source": [
    "with open('today.txt','r') as f:\n",
    "    today_string=f.read()\n",
    "today_string"
   ]
  },
  {
   "cell_type": "markdown",
   "id": "a64e57dd",
   "metadata": {},
   "source": [
    "3. Parse the date from today_string."
   ]
  },
  {
   "cell_type": "code",
   "execution_count": 4,
   "id": "a9992296",
   "metadata": {},
   "outputs": [
    {
     "data": {
      "text/plain": [
       "datetime.datetime(2022, 9, 25, 0, 0)"
      ]
     },
     "execution_count": 4,
     "metadata": {},
     "output_type": "execute_result"
    }
   ],
   "source": [
    "from datetime import datetime\n",
    "format='%Y-%m-%d'\n",
    "datetime.strptime(today_string,format)"
   ]
  },
  {
   "cell_type": "markdown",
   "id": "64b1069c",
   "metadata": {},
   "source": [
    "4. List the files in your current directory"
   ]
  },
  {
   "cell_type": "code",
   "execution_count": 6,
   "id": "83cab814",
   "metadata": {},
   "outputs": [
    {
     "data": {
      "text/plain": [
       "['.ipynb_checkpoints', 'Python Basic Assignment - 21.ipynb', 'today.txt']"
      ]
     },
     "execution_count": 6,
     "metadata": {},
     "output_type": "execute_result"
    }
   ],
   "source": [
    "import os\n",
    "os.listdir('.')"
   ]
  },
  {
   "cell_type": "markdown",
   "id": "e4f1e212",
   "metadata": {},
   "source": [
    "5. Create a list of all of the files in your parent directory (minimum five files should be available)."
   ]
  },
  {
   "cell_type": "code",
   "execution_count": 7,
   "id": "1268197f",
   "metadata": {},
   "outputs": [
    {
     "data": {
      "text/plain": [
       "'C:\\\\Users\\\\Pratiksha\\\\Python for DS\\\\Practicals\\\\Python Basic Assignment - 21'"
      ]
     },
     "execution_count": 7,
     "metadata": {},
     "output_type": "execute_result"
    }
   ],
   "source": [
    "pwd()"
   ]
  },
  {
   "cell_type": "code",
   "execution_count": 9,
   "id": "fe9fb292",
   "metadata": {},
   "outputs": [
    {
     "data": {
      "text/plain": [
       "['.ipynb_checkpoints',\n",
       " 'demo.docx',\n",
       " 'documentation.pdf',\n",
       " 'Exception.ipynb',\n",
       " 'Modules (importing).ipynb',\n",
       " 'panda.jpg',\n",
       " 'panda1.jpg',\n",
       " 'Python Basic Assignment - 15.ipynb',\n",
       " 'Python Basic Assignment - 16.ipynb',\n",
       " 'Python Basic Assignment - 17.ipynb',\n",
       " 'Python Basic Assignment - 18',\n",
       " 'Python Basic Assignment - 19.ipynb',\n",
       " 'Python Basic Assignment - 20',\n",
       " 'Python Basic Assignment - 21',\n",
       " 'Python Basic Assignments.ipynb',\n",
       " 'Test',\n",
       " 'test.py',\n",
       " 'test1.py',\n",
       " '__pycache__']"
      ]
     },
     "execution_count": 9,
     "metadata": {},
     "output_type": "execute_result"
    }
   ],
   "source": [
    "import os\n",
    "os.listdir('C:\\\\Users\\\\Pratiksha\\\\Python for DS\\\\Practicals')"
   ]
  },
  {
   "cell_type": "markdown",
   "id": "1bbf7081",
   "metadata": {},
   "source": [
    "6. Use multiprocessing to create three separate processes. Make each one wait a random number of\n",
    "seconds between one and five, print the current time, and then exit."
   ]
  },
  {
   "cell_type": "code",
   "execution_count": 40,
   "id": "d48cba11",
   "metadata": {},
   "outputs": [
    {
     "name": "stdout",
     "output_type": "stream",
     "text": [
      "wait 0.4030078341371537 seconds, time is 2022-09-25 16:49:33.430755\n",
      "None\n",
      "wait 0.3824795587644003 seconds, time is 2022-09-25 16:49:33.839678\n",
      "None\n",
      "wait 0.6614338809519554 seconds, time is 2022-09-25 16:49:34.524669\n",
      "None\n"
     ]
    }
   ],
   "source": [
    "import multiprocessing\n",
    "\n",
    "def printseconds(seconds):\n",
    "    from datetime import datetime\n",
    "    from time import sleep\n",
    "    sleep(seconds)\n",
    "    print('wait', seconds, 'seconds, time is', datetime.utcnow())\n",
    "   \n",
    "if __name__ == '__main__':\n",
    "    import random    \n",
    "    for n in range(3):\n",
    "        seconds = random.random()\n",
    "        proc = multiprocessing.Process(target=printsec, args=(seconds,))\n",
    "        proc.start()\n",
    "        print(printseconds(seconds))"
   ]
  },
  {
   "cell_type": "markdown",
   "id": "d8c9732a",
   "metadata": {},
   "source": [
    "7. Create a date object of your day of birth."
   ]
  },
  {
   "cell_type": "code",
   "execution_count": 49,
   "id": "2bcee859",
   "metadata": {},
   "outputs": [
    {
     "data": {
      "text/plain": [
       "datetime.date(2001, 2, 10)"
      ]
     },
     "execution_count": 49,
     "metadata": {},
     "output_type": "execute_result"
    }
   ],
   "source": [
    "mydob=date(2001,2,10)\n",
    "mydob"
   ]
  },
  {
   "cell_type": "markdown",
   "id": "765286eb",
   "metadata": {},
   "source": [
    "8. What day of the week was your day of birth?"
   ]
  },
  {
   "cell_type": "code",
   "execution_count": 51,
   "id": "2bf39ee6",
   "metadata": {},
   "outputs": [
    {
     "data": {
      "text/plain": [
       "5"
      ]
     },
     "execution_count": 51,
     "metadata": {},
     "output_type": "execute_result"
    }
   ],
   "source": [
    "mydob.weekday()"
   ]
  },
  {
   "cell_type": "code",
   "execution_count": 50,
   "id": "259070c1",
   "metadata": {},
   "outputs": [
    {
     "data": {
      "text/plain": [
       "6"
      ]
     },
     "execution_count": 50,
     "metadata": {},
     "output_type": "execute_result"
    }
   ],
   "source": [
    "mydob.isoweekday()"
   ]
  },
  {
   "cell_type": "markdown",
   "id": "65c06be4",
   "metadata": {},
   "source": [
    "9. When will you be (or when were you) 10,000 days old?"
   ]
  },
  {
   "cell_type": "code",
   "execution_count": 53,
   "id": "08c7cb7d",
   "metadata": {},
   "outputs": [
    {
     "data": {
      "text/plain": [
       "datetime.date(2028, 6, 28)"
      ]
     },
     "execution_count": 53,
     "metadata": {},
     "output_type": "execute_result"
    }
   ],
   "source": [
    "from datetime import timedelta\n",
    "day_10000=mydob+timedelta(days=10000)\n",
    "day_10000"
   ]
  },
  {
   "cell_type": "code",
   "execution_count": null,
   "id": "77da3cbd",
   "metadata": {},
   "outputs": [],
   "source": []
  }
 ],
 "metadata": {
  "kernelspec": {
   "display_name": "Python 3 (ipykernel)",
   "language": "python",
   "name": "python3"
  },
  "language_info": {
   "codemirror_mode": {
    "name": "ipython",
    "version": 3
   },
   "file_extension": ".py",
   "mimetype": "text/x-python",
   "name": "python",
   "nbconvert_exporter": "python",
   "pygments_lexer": "ipython3",
   "version": "3.9.12"
  }
 },
 "nbformat": 4,
 "nbformat_minor": 5
}
