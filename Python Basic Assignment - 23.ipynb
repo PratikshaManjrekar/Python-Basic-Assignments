{
 "cells": [
  {
   "cell_type": "code",
   "execution_count": null,
   "id": "15fbc8ff",
   "metadata": {},
   "outputs": [],
   "source": [
    "'''1. What is the result of the code, and why?\n",
    ">>> def func(a, b=6, c=8):\n",
    "print(a, b, c)\n",
    ">>> func(1, 2)'''"
   ]
  },
  {
   "cell_type": "code",
   "execution_count": 1,
   "id": "dd5db088",
   "metadata": {},
   "outputs": [
    {
     "name": "stdout",
     "output_type": "stream",
     "text": [
      "1 2 8\n"
     ]
    }
   ],
   "source": [
    "def func(a,b=6,c=8):\n",
    "    print(a,b,c)\n",
    "func(1,2)\n",
    "\n",
    "\n",
    "'''\n",
    "This funtion is taking 'a' as positional argument and 2 keyward arguments (b,c). \n",
    "When function call is made, parameter passed are a=1,b=2. \n",
    "When the function is executed , parameter c=8 will be taken by default as its a keyword argument.\n",
    "'''"
   ]
  },
  {
   "cell_type": "code",
   "execution_count": null,
   "id": "0c8d14ea",
   "metadata": {},
   "outputs": [],
   "source": [
    "'''2. What is the result of this code, and why?\n",
    ">>> def func(a, b, c=5):\n",
    "print(a, b, c)\n",
    ">>> func(1, c=3, b=2)'''"
   ]
  },
  {
   "cell_type": "code",
   "execution_count": 2,
   "id": "d6019824",
   "metadata": {},
   "outputs": [
    {
     "name": "stdout",
     "output_type": "stream",
     "text": [
      "1 2 3\n"
     ]
    }
   ],
   "source": [
    "def func(a,b,c=5):\n",
    "    print(a,b,c)\n",
    "func(1,c=3,b=2)\n",
    "\n",
    "\n",
    "'''\n",
    "When we call the function, order will be positional argument and then keywords arguments. \n",
    "We can pass the keyword arguments in any order we want. Thus we get this output.\n",
    "'''"
   ]
  },
  {
   "cell_type": "code",
   "execution_count": null,
   "id": "4f02e422",
   "metadata": {},
   "outputs": [],
   "source": [
    "'''3. How about this code: what is its result, and why?\n",
    ">>> def func(a, *pargs):\n",
    "print(a, pargs)\n",
    ">>> func(1, 2, 3)'''"
   ]
  },
  {
   "cell_type": "code",
   "execution_count": 3,
   "id": "50d105ee",
   "metadata": {},
   "outputs": [
    {
     "name": "stdout",
     "output_type": "stream",
     "text": [
      "1 (2, 3)\n"
     ]
    }
   ],
   "source": [
    "def func(a, *pargs):\n",
    "    print(a, pargs)\n",
    "func(1, 2, 3)\n",
    "\n",
    "\n",
    "'''\n",
    "*args is used to pass variable number of arguments to the function.\n",
    "The return type of *args is tuple, so we get the below output. \n",
    "'''"
   ]
  },
  {
   "cell_type": "code",
   "execution_count": null,
   "id": "a7a60738",
   "metadata": {},
   "outputs": [],
   "source": [
    "'''4. What does this code print, and why?\n",
    ">>> def func(a, **kargs):\n",
    "print(a, kargs)\n",
    ">>> func(a=1, c=3, b=2)'''"
   ]
  },
  {
   "cell_type": "code",
   "execution_count": 5,
   "id": "fcd5119f",
   "metadata": {},
   "outputs": [
    {
     "name": "stdout",
     "output_type": "stream",
     "text": [
      "1 {'c': 3, 'b': 2}\n"
     ]
    }
   ],
   "source": [
    "def func(a,**kargs):\n",
    "    print(a,kargs)\n",
    "func(a=1,c=3,b=2)\n",
    "\n",
    "\n",
    "'''\n",
    "**kargs is used to pass keyworded, variable-length argument to the list.\n",
    "**kargs returns the output in dictionary format.\n",
    "'''"
   ]
  },
  {
   "cell_type": "code",
   "execution_count": null,
   "id": "f9b005d8",
   "metadata": {},
   "outputs": [],
   "source": [
    "'''5. What gets printed by this, and explain?\n",
    ">>> def func(a, b, c=8, d=5): \n",
    "print(a, b, c, d)\n",
    ">>> func(1, *(5, 6))'''"
   ]
  },
  {
   "cell_type": "code",
   "execution_count": 6,
   "id": "00f8d710",
   "metadata": {},
   "outputs": [
    {
     "name": "stdout",
     "output_type": "stream",
     "text": [
      "1 5 6 5\n"
     ]
    }
   ],
   "source": [
    "def func(a,b,c=8,d=5):\n",
    "    print(a,b,c,d)\n",
    "func(1,*(5,6))\n",
    "\n",
    "\n",
    "'''\n",
    "'*' is the unpacking operator and are operators that unpack the values from iterable objects in Python. \n",
    "The single asterisk operator * can be used on any iterable that Python provides, while the double asterisk operator ** can only \n",
    "be used on dictionaries. \n",
    "In the example the value *(5,6) will be unpacked and will be assigned to b and c and passed as arguments, \n",
    "d =5 will taken by default keyword arguments.\n",
    "'''"
   ]
  },
  {
   "cell_type": "code",
   "execution_count": null,
   "id": "925c96e8",
   "metadata": {},
   "outputs": [],
   "source": [
    "'''6. what is the result of this, and explain?\n",
    ">>> def func(a, b, c): a = 2; b[0] = ‘x’; c[‘a’] = ‘y’\n",
    ">>> l=1; m=[1]; n={‘a’:0}\n",
    ">>> func(l, m, n)\n",
    ">>> l, m, n'''"
   ]
  },
  {
   "cell_type": "code",
   "execution_count": 8,
   "id": "ca46571d",
   "metadata": {},
   "outputs": [
    {
     "data": {
      "text/plain": [
       "(1, ['x'], {'a': 'y'})"
      ]
     },
     "execution_count": 8,
     "metadata": {},
     "output_type": "execute_result"
    }
   ],
   "source": [
    "def func(a,b,c):\n",
    "    a=2; b[0]='x'; c['a']='y'\n",
    "    \n",
    "l=1; m=[1]; n={'a':0}\n",
    "func(l, m, n)\n",
    "l, m, n\n",
    "\n",
    "\n",
    "'''\n",
    "In this example, lists and dictionaries are passed as an argument and are mutable.\n",
    "Here list m and parameter b ponts to the same list in the memory. Similarly, dictionary n and c points to same memory location.\n",
    "Any update to the list and dictionary will update in memory location.\n",
    "l is integer value and is immutable so it'll print the following output.\n",
    "'''"
   ]
  },
  {
   "cell_type": "code",
   "execution_count": null,
   "id": "0926d744",
   "metadata": {},
   "outputs": [],
   "source": []
  }
 ],
 "metadata": {
  "kernelspec": {
   "display_name": "Python 3 (ipykernel)",
   "language": "python",
   "name": "python3"
  },
  "language_info": {
   "codemirror_mode": {
    "name": "ipython",
    "version": 3
   },
   "file_extension": ".py",
   "mimetype": "text/x-python",
   "name": "python",
   "nbconvert_exporter": "python",
   "pygments_lexer": "ipython3",
   "version": "3.9.12"
  }
 },
 "nbformat": 4,
 "nbformat_minor": 5
}
